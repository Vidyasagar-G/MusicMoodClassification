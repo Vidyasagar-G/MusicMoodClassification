{
 "cells": [
  {
   "cell_type": "markdown",
   "id": "22d6bf83",
   "metadata": {},
   "source": [
    "# Music Mood Classification - DA 623 Computing with Signals - Course Project\n",
    "\n",
    "**Author:** Vidya Sagar G  \n",
    "**Roll No:** 210123073    \n",
    "**Institution:** IIT Guwahati  \n",
    "**Project Type:** Course Project \n",
    "\n",
    "---\n",
    "\n",
    "##  Project Scope\n",
    "\n",
    "This project aims to explore **multimodal mood classification** in music by analyzing both **lyrics** (text) and **audio features**. Mood detection in songs is a key task in affective computing and music recommendation systems, and it requires modeling both **semantic content** and **acoustic signals**.\n",
    "\n",
    "While the broader research and design are centered around **audio–text fusion**, the current implementation focuses solely on the **text modality (lyrics-based classification)**. The project is exploratory in nature and efforts to include audio features (via YouTube audio extraction) were unsuccessful due to copyright restrictions and inconsistent access to full tracks.\n",
    "\n",
    "---\n",
    "\n",
    "##  Motivation & Background\n",
    "\n",
    "Music has always been a deeply expressive medium, capable of conveying emotions, moods, and narratives through both sound and language. As someone interested in music and having recently explored Natural Language Processing (NLP), I was excited to apply computational techniques to the intersection of music and machine learning.\n",
    "\n",
    "This project explores the broader problem of **multimodal mood classification in music**, where both **lyrics (text)** and **audio signals** contribute to understanding the emotional tone of a song. While lyrics offer semantic and narrative context, the audio modality carries vital cues about rhythm, instrumentation, pitch, and vocal delivery — all of which influence how a listener perceives mood. The task has significant applications in **music recommendation systems**, and **emotion-aware interfaces** for instance.\n",
    "\n",
    "---"
   ]
  },
  {
   "cell_type": "markdown",
   "id": "e97114c1",
   "metadata": {},
   "source": [
    "\n",
    "##  Historical Context\n",
    "\n",
    "Music mood classification has evolved across three main phases:\n",
    "\n",
    "### 1. Audio-based methods\n",
    "\n",
    "Early studies relied only on audio features:\n",
    "\n",
    "- **Tempo**, **timbre**, **rhythm**, and **spectral features** (e.g., MFCCs)\n",
    "- Classical models like SVMs, KNNs on extracted signal features\n",
    "- Focused on genre or emotion classification using raw audio\n",
    "\n",
    "### 2. Lyrics-based methods\n",
    "\n",
    "With advances in NLP, researchers began analyzing song lyrics:\n",
    "\n",
    "- Used Bag-of-Words (BoW), TF-IDF, Word2Vec, and GloVe\n",
    "- Treated mood prediction as a text classification problem\n",
    "- Captured themes and emotions conveyed in words\n",
    "\n",
    "### 3. Multimodal learning\n",
    "\n",
    "Recent work combines both audio and text:\n",
    "\n",
    "- Fusion of acoustic and semantic features improves accuracy\n",
    "- Deep models extract joint representations from both modalities\n",
    "- Key examples:\n",
    "  - Laurier et al. (2008): Combined timbre + lyric features\n",
    "  - Delbouys et al. (2018): Used CNNs on audio + embeddings from lyrics\n",
    "\n",
    "This shift shows that neither audio nor text alone is sufficient—multimodal models are now the state of the art.\n",
    "\n",
    "---"
   ]
  },
  {
   "cell_type": "markdown",
   "id": "4c97afe5",
   "metadata": {},
   "source": [
    "## What My Project Is\n",
    "\n",
    "This project focuses on **music mood classification** using only **song lyrics**.\n",
    "\n",
    "While the original goal was to build a **multimodal model** (lyrics + audio) and it is still a work in progress, audio integration was deferred due to copyright and data access issues. The current implementation is **text-only**.\n",
    "\n",
    "### Pipeline Overview\n",
    "\n",
    "- **Preprocessing**:\n",
    "  - Lowercasing, tokenization, stopword removal, lemmatization\n",
    "\n",
    "- **Feature Extraction**:\n",
    "  - TF-IDF vectors\n",
    "  - GloVe (100D average word embeddings)\n",
    "  - MiniLM sentence embeddings (from BERT)\n",
    "\n",
    "- **Models Trained**:\n",
    "  - Logistic Regression\n",
    "  - Random Forest\n",
    "  - Support Vector Machine (SVM)\n",
    "  - Naive Bayes (TF-IDF only)\n",
    "\n",
    "- **Evaluation**:\n",
    "  - Accuracy\n",
    "  - F1-score\n",
    "  - Confusion matrices"
   ]
  },
  {
   "cell_type": "markdown",
   "id": "9b66aac4",
   "metadata": {},
   "source": [
    "## Importing Necessary Libraries"
   ]
  },
  {
   "cell_type": "code",
   "execution_count": 1,
   "id": "0b3ec5da",
   "metadata": {},
   "outputs": [],
   "source": [
    "import os\n",
    "import re\n",
    "import subprocess\n",
    "import pandas as pd\n",
    "import nltk\n",
    "import matplotlib.pyplot as plt\n",
    "from nltk.tokenize import word_tokenize\n",
    "from nltk import pos_tag\n",
    "from nltk.corpus import stopwords, wordnet\n",
    "from nltk.stem import WordNetLemmatizer\n",
    "from collections import defaultdict"
   ]
  },
  {
   "cell_type": "markdown",
   "id": "21a83f91",
   "metadata": {},
   "source": [
    "## Dataset Description\n",
    "\n",
    "I use the **NJU Music Mood Dataset** ([link](https://cs.nju.edu.cn/sufeng/data/musicmood.htm)), which contains a total of **777 music clips** labeled across **four mood categories**:\n",
    "\n",
    "- Angry  \n",
    "- Happy  \n",
    "- Relaxed  \n",
    "- Sad  \n",
    "\n",
    "Out of the 777 samples:\n",
    "- **400 clips** are used for training  \n",
    "- **377 clips** are used for testing  \n",
    "\n",
    "The dataset provides:\n",
    "- Plain text `.txt` files for each music clip containing **song lyrics**\n",
    "- Each sentence is timestamped with the offset `[hh:mm:ss]` from the start of the track\n",
    "\n",
    "> Due to **copyright constraints**, only lyrics and tags are available; full-length audio clips are not accessible.\n",
    "\n",
    "### Sample Distribution\n",
    "\n",
    "| Mood Category | Training Samples | Testing Samples |\n",
    "|---------------|------------------|-----------------|\n",
    "| Angry         | 100              | 71              |\n",
    "| Happy         | 100              | 106             |\n",
    "| Relaxed       | 100              | 101             |\n",
    "| Sad           | 100              | 99              |"
   ]
  },
  {
   "cell_type": "code",
   "execution_count": 2,
   "id": "241c268a",
   "metadata": {},
   "outputs": [],
   "source": [
    "# Root directory where Angry/, Happy/, etc. folders are located\n",
    "DATA_DIR = \"C:\\\\All data\\\\IITG\\\\Acads\\\\Eighth semester\\\\DA623 Computing with Signals\\\\Course Project\\\\Data\"  # Change this to your actual path\n",
    "\n",
    "# List of mood categories (folder names)\n",
    "mood_dirs = [\"Angry\", \"Happy\", \"Relaxed\", \"Sad\"]\n",
    "\n",
    "# Split of train and test data\n",
    "splits = [\"train\", \"test\"]"
   ]
  },
  {
   "cell_type": "code",
   "execution_count": 3,
   "id": "60a816f4",
   "metadata": {},
   "outputs": [],
   "source": [
    "all_data = []\n",
    "\n",
    "for mood in mood_dirs:\n",
    "    for split in splits:\n",
    "        folder = os.path.join(DATA_DIR, mood, split)\n",
    "        info_path = os.path.join(folder, \"info.txt\")\n",
    "\n",
    "        if not os.path.exists(folder):\n",
    "            print(f\"Folder not found: {folder}\")\n",
    "            continue\n",
    "\n",
    "        # --- Parse info.txt ---\n",
    "        song_info = {}\n",
    "        if os.path.exists(info_path):\n",
    "            with open(info_path, \"r\", encoding=\"utf-8\", errors=\"replace\") as f:\n",
    "                for line in f:\n",
    "                    parts = line.strip().split(\":\")\n",
    "                    if len(parts) < 3:\n",
    "                        print(f\"Skipping malformed line: {line.strip()}\")\n",
    "                        continue\n",
    "                    index = parts[0].strip()\n",
    "                    artist = parts[-2].strip()\n",
    "                    title = \":\".join(parts[1:-2]).strip()\n",
    "                    song_info[index] = {\n",
    "                        \"title\": title,\n",
    "                        \"artist\": artist\n",
    "                    }\n",
    "\n",
    "        # --- Process lyric files ---\n",
    "        for filename in os.listdir(folder):\n",
    "            if filename.endswith(\".txt\") and filename != \"info.txt\":\n",
    "                try:\n",
    "                    # Extract index: happy_1.txt → 1\n",
    "                    name_parts = filename.replace(\".txt\", \"\").split(\"_\")\n",
    "                    if len(name_parts) != 2:\n",
    "                        print(f\"Unexpected filename format: {filename}\")\n",
    "                        continue\n",
    "                    index = name_parts[1]\n",
    "\n",
    "                    file_path = os.path.join(folder, filename)\n",
    "                    with open(file_path, \"r\", encoding=\"utf-8\", errors=\"replace\") as f:\n",
    "                        lines = f.readlines()\n",
    "                        lyrics = []\n",
    "                        for line in lines:\n",
    "                            clean_line = re.sub(r'\\[\\d{2}:\\d{2}(?:\\.\\d{2})?\\]', '', line).strip()\n",
    "                            if clean_line:\n",
    "                                lyrics.append(clean_line)\n",
    "                        lyrics = \".\".join(lyrics)\n",
    "\n",
    "                    title = song_info.get(index, {}).get(\"title\", \"Unknown\")\n",
    "                    artist = song_info.get(index, {}).get(\"artist\", \"Unknown\")\n",
    "\n",
    "                    all_data.append({\n",
    "                        \"mood\": mood,\n",
    "                        \"split\": split,\n",
    "                        \"index\": index,\n",
    "                        \"title\": title,\n",
    "                        \"artist\": artist,\n",
    "                        \"lyrics\": lyrics\n",
    "                    })\n",
    "\n",
    "                except Exception as e:\n",
    "                    print(f\"Error reading {filename}: {e}\")"
   ]
  },
  {
   "cell_type": "code",
   "execution_count": 4,
   "id": "f2c3fa68",
   "metadata": {},
   "outputs": [
    {
     "name": "stdout",
     "output_type": "stream",
     "text": [
      "Saved lyrics_dataset.csv with 777 rows.\n"
     ]
    }
   ],
   "source": [
    "# Final DataFrame\n",
    "df = pd.DataFrame(all_data)\n",
    "df.to_csv(\"lyrics_dataset.csv\", index=False)\n",
    "print(f\"Saved lyrics_dataset.csv with {len(df)} rows.\")"
   ]
  },
  {
   "cell_type": "code",
   "execution_count": 5,
   "id": "7ee009fc",
   "metadata": {},
   "outputs": [
    {
     "data": {
      "text/html": [
       "<div>\n",
       "<style scoped>\n",
       "    .dataframe tbody tr th:only-of-type {\n",
       "        vertical-align: middle;\n",
       "    }\n",
       "\n",
       "    .dataframe tbody tr th {\n",
       "        vertical-align: top;\n",
       "    }\n",
       "\n",
       "    .dataframe thead th {\n",
       "        text-align: right;\n",
       "    }\n",
       "</style>\n",
       "<table border=\"1\" class=\"dataframe\">\n",
       "  <thead>\n",
       "    <tr style=\"text-align: right;\">\n",
       "      <th></th>\n",
       "      <th>mood</th>\n",
       "      <th>split</th>\n",
       "      <th>index</th>\n",
       "      <th>title</th>\n",
       "      <th>artist</th>\n",
       "      <th>lyrics</th>\n",
       "    </tr>\n",
       "  </thead>\n",
       "  <tbody>\n",
       "    <tr>\n",
       "      <th>0</th>\n",
       "      <td>Angry</td>\n",
       "      <td>train</td>\n",
       "      <td>1</td>\n",
       "      <td>All Messed Up</td>\n",
       "      <td>Sum 41</td>\n",
       "      <td>Another day wasted out of time.I can't get out...</td>\n",
       "    </tr>\n",
       "    <tr>\n",
       "      <th>1</th>\n",
       "      <td>Angry</td>\n",
       "      <td>train</td>\n",
       "      <td>10</td>\n",
       "      <td>Before You Die</td>\n",
       "      <td>Bad Religion</td>\n",
       "      <td>Decaying’ ever faster..Under wear all the immi...</td>\n",
       "    </tr>\n",
       "    <tr>\n",
       "      <th>2</th>\n",
       "      <td>Angry</td>\n",
       "      <td>train</td>\n",
       "      <td>100</td>\n",
       "      <td>Pride:Manchester Orchestra</td>\n",
       "      <td>Manchester Orchestra</td>\n",
       "      <td>Finally I felt the calming breeze.Stepping out...</td>\n",
       "    </tr>\n",
       "    <tr>\n",
       "      <th>3</th>\n",
       "      <td>Angry</td>\n",
       "      <td>train</td>\n",
       "      <td>11</td>\n",
       "      <td>Blood Red</td>\n",
       "      <td>Slayer</td>\n",
       "      <td>Peaceful confrontation meet war machine.Seizin...</td>\n",
       "    </tr>\n",
       "    <tr>\n",
       "      <th>4</th>\n",
       "      <td>Angry</td>\n",
       "      <td>train</td>\n",
       "      <td>12</td>\n",
       "      <td>You Oughta Know</td>\n",
       "      <td>Alanis Morissette</td>\n",
       "      <td>I want you to know, that I'm happy for you.I w...</td>\n",
       "    </tr>\n",
       "  </tbody>\n",
       "</table>\n",
       "</div>"
      ],
      "text/plain": [
       "    mood  split index                       title                artist  \\\n",
       "0  Angry  train     1               All Messed Up                Sum 41   \n",
       "1  Angry  train    10              Before You Die          Bad Religion   \n",
       "2  Angry  train   100  Pride:Manchester Orchestra  Manchester Orchestra   \n",
       "3  Angry  train    11                   Blood Red                Slayer   \n",
       "4  Angry  train    12             You Oughta Know     Alanis Morissette   \n",
       "\n",
       "                                              lyrics  \n",
       "0  Another day wasted out of time.I can't get out...  \n",
       "1  Decaying’ ever faster..Under wear all the immi...  \n",
       "2  Finally I felt the calming breeze.Stepping out...  \n",
       "3  Peaceful confrontation meet war machine.Seizin...  \n",
       "4  I want you to know, that I'm happy for you.I w...  "
      ]
     },
     "execution_count": 5,
     "metadata": {},
     "output_type": "execute_result"
    }
   ],
   "source": [
    "df.head()"
   ]
  },
  {
   "cell_type": "markdown",
   "id": "004fbbac",
   "metadata": {},
   "source": [
    "Splitting the data according to the standard split"
   ]
  },
  {
   "cell_type": "code",
   "execution_count": 6,
   "id": "a13b0e61",
   "metadata": {},
   "outputs": [
    {
     "data": {
      "text/html": [
       "<div>\n",
       "<style scoped>\n",
       "    .dataframe tbody tr th:only-of-type {\n",
       "        vertical-align: middle;\n",
       "    }\n",
       "\n",
       "    .dataframe tbody tr th {\n",
       "        vertical-align: top;\n",
       "    }\n",
       "\n",
       "    .dataframe thead th {\n",
       "        text-align: right;\n",
       "    }\n",
       "</style>\n",
       "<table border=\"1\" class=\"dataframe\">\n",
       "  <thead>\n",
       "    <tr style=\"text-align: right;\">\n",
       "      <th></th>\n",
       "      <th>mood</th>\n",
       "      <th>split</th>\n",
       "      <th>index</th>\n",
       "      <th>title</th>\n",
       "      <th>artist</th>\n",
       "      <th>lyrics</th>\n",
       "    </tr>\n",
       "  </thead>\n",
       "  <tbody>\n",
       "    <tr>\n",
       "      <th>0</th>\n",
       "      <td>Angry</td>\n",
       "      <td>train</td>\n",
       "      <td>1</td>\n",
       "      <td>All Messed Up</td>\n",
       "      <td>Sum 41</td>\n",
       "      <td>Another day wasted out of time.I can't get out...</td>\n",
       "    </tr>\n",
       "    <tr>\n",
       "      <th>1</th>\n",
       "      <td>Angry</td>\n",
       "      <td>train</td>\n",
       "      <td>10</td>\n",
       "      <td>Before You Die</td>\n",
       "      <td>Bad Religion</td>\n",
       "      <td>Decaying’ ever faster..Under wear all the immi...</td>\n",
       "    </tr>\n",
       "    <tr>\n",
       "      <th>2</th>\n",
       "      <td>Angry</td>\n",
       "      <td>train</td>\n",
       "      <td>100</td>\n",
       "      <td>Pride:Manchester Orchestra</td>\n",
       "      <td>Manchester Orchestra</td>\n",
       "      <td>Finally I felt the calming breeze.Stepping out...</td>\n",
       "    </tr>\n",
       "    <tr>\n",
       "      <th>3</th>\n",
       "      <td>Angry</td>\n",
       "      <td>train</td>\n",
       "      <td>11</td>\n",
       "      <td>Blood Red</td>\n",
       "      <td>Slayer</td>\n",
       "      <td>Peaceful confrontation meet war machine.Seizin...</td>\n",
       "    </tr>\n",
       "    <tr>\n",
       "      <th>4</th>\n",
       "      <td>Angry</td>\n",
       "      <td>train</td>\n",
       "      <td>12</td>\n",
       "      <td>You Oughta Know</td>\n",
       "      <td>Alanis Morissette</td>\n",
       "      <td>I want you to know, that I'm happy for you.I w...</td>\n",
       "    </tr>\n",
       "  </tbody>\n",
       "</table>\n",
       "</div>"
      ],
      "text/plain": [
       "    mood  split  index                       title                artist  \\\n",
       "0  Angry  train      1               All Messed Up                Sum 41   \n",
       "1  Angry  train     10              Before You Die          Bad Religion   \n",
       "2  Angry  train    100  Pride:Manchester Orchestra  Manchester Orchestra   \n",
       "3  Angry  train     11                   Blood Red                Slayer   \n",
       "4  Angry  train     12             You Oughta Know     Alanis Morissette   \n",
       "\n",
       "                                              lyrics  \n",
       "0  Another day wasted out of time.I can't get out...  \n",
       "1  Decaying’ ever faster..Under wear all the immi...  \n",
       "2  Finally I felt the calming breeze.Stepping out...  \n",
       "3  Peaceful confrontation meet war machine.Seizin...  \n",
       "4  I want you to know, that I'm happy for you.I w...  "
      ]
     },
     "execution_count": 6,
     "metadata": {},
     "output_type": "execute_result"
    }
   ],
   "source": [
    "df = pd.read_csv(\"lyrics_dataset.csv\")\n",
    "train_df = df[df['split'] == 'train'].copy()\n",
    "test_df = df[df['split'] == 'test'].copy()\n",
    "train_df.head()"
   ]
  },
  {
   "cell_type": "code",
   "execution_count": 7,
   "id": "478353ae",
   "metadata": {},
   "outputs": [
    {
     "data": {
      "text/html": [
       "<div>\n",
       "<style scoped>\n",
       "    .dataframe tbody tr th:only-of-type {\n",
       "        vertical-align: middle;\n",
       "    }\n",
       "\n",
       "    .dataframe tbody tr th {\n",
       "        vertical-align: top;\n",
       "    }\n",
       "\n",
       "    .dataframe thead th {\n",
       "        text-align: right;\n",
       "    }\n",
       "</style>\n",
       "<table border=\"1\" class=\"dataframe\">\n",
       "  <thead>\n",
       "    <tr style=\"text-align: right;\">\n",
       "      <th></th>\n",
       "      <th>mood</th>\n",
       "      <th>split</th>\n",
       "      <th>index</th>\n",
       "      <th>title</th>\n",
       "      <th>artist</th>\n",
       "      <th>lyrics</th>\n",
       "    </tr>\n",
       "  </thead>\n",
       "  <tbody>\n",
       "    <tr>\n",
       "      <th>100</th>\n",
       "      <td>Angry</td>\n",
       "      <td>test</td>\n",
       "      <td>1</td>\n",
       "      <td>'Till I Collapse</td>\n",
       "      <td>Eminem</td>\n",
       "      <td>Sometimes you just feel tired, feel weak.When ...</td>\n",
       "    </tr>\n",
       "    <tr>\n",
       "      <th>101</th>\n",
       "      <td>Angry</td>\n",
       "      <td>test</td>\n",
       "      <td>10</td>\n",
       "      <td>Ridin'</td>\n",
       "      <td>Chamillionaire,sway</td>\n",
       "      <td>They see me rolling.They hating.Patrolling the...</td>\n",
       "    </tr>\n",
       "    <tr>\n",
       "      <th>102</th>\n",
       "      <td>Angry</td>\n",
       "      <td>test</td>\n",
       "      <td>11</td>\n",
       "      <td>Rootless Tree</td>\n",
       "      <td>Damien Rice</td>\n",
       "      <td>What I want from you is empty your head..But t...</td>\n",
       "    </tr>\n",
       "    <tr>\n",
       "      <th>103</th>\n",
       "      <td>Angry</td>\n",
       "      <td>test</td>\n",
       "      <td>12</td>\n",
       "      <td>Rush</td>\n",
       "      <td>Talib Kweli</td>\n",
       "      <td>Rush - Talib Kweli.Feel the rush.Yeah, I do th...</td>\n",
       "    </tr>\n",
       "    <tr>\n",
       "      <th>104</th>\n",
       "      <td>Angry</td>\n",
       "      <td>test</td>\n",
       "      <td>13</td>\n",
       "      <td>Screaming For Vengeance</td>\n",
       "      <td>Judas Priest</td>\n",
       "      <td>Screaming For Vengeance-Judas Priest.Hey liste...</td>\n",
       "    </tr>\n",
       "  </tbody>\n",
       "</table>\n",
       "</div>"
      ],
      "text/plain": [
       "      mood split  index                    title               artist  \\\n",
       "100  Angry  test      1         'Till I Collapse               Eminem   \n",
       "101  Angry  test     10                   Ridin'  Chamillionaire,sway   \n",
       "102  Angry  test     11            Rootless Tree          Damien Rice   \n",
       "103  Angry  test     12                     Rush          Talib Kweli   \n",
       "104  Angry  test     13  Screaming For Vengeance         Judas Priest   \n",
       "\n",
       "                                                lyrics  \n",
       "100  Sometimes you just feel tired, feel weak.When ...  \n",
       "101  They see me rolling.They hating.Patrolling the...  \n",
       "102  What I want from you is empty your head..But t...  \n",
       "103  Rush - Talib Kweli.Feel the rush.Yeah, I do th...  \n",
       "104  Screaming For Vengeance-Judas Priest.Hey liste...  "
      ]
     },
     "execution_count": 7,
     "metadata": {},
     "output_type": "execute_result"
    }
   ],
   "source": [
    "test_df.head()"
   ]
  },
  {
   "cell_type": "markdown",
   "id": "873ac268",
   "metadata": {},
   "source": [
    "---\n",
    "\n",
    "I use the `nltk` library to preprocess the raw song lyrics before feature extraction. This involves downloading necessary resources such as the Punkt tokenizer, WordNet lemmatizer, POS tagger, and English stopwords. Each lyric is first tokenized into words, and then POS-tagged using `nltk.pos_tag`. To enhance lemmatization accuracy, I map POS tags to the format expected by WordNet (e.g., adjectives, verbs, nouns).\n",
    "\n",
    "The text is then lemmatized using `WordNetLemmatizer`, and common stopwords and punctuation are removed. All tokens are converted to lowercase to ensure uniformity. This process reduces noise and standardizes the text data for input into TF-IDF, GloVe, or BERT-based embeddings."
   ]
  },
  {
   "cell_type": "code",
   "execution_count": 8,
   "id": "db9bcceb",
   "metadata": {},
   "outputs": [
    {
     "name": "stderr",
     "output_type": "stream",
     "text": [
      "[nltk_data] Downloading package omw-1.4 to\n",
      "[nltk_data]     C:\\Users\\Vidyasagar\\AppData\\Roaming\\nltk_data...\n",
      "[nltk_data]   Package omw-1.4 is already up-to-date!\n",
      "[nltk_data] Downloading package punkt to\n",
      "[nltk_data]     C:\\Users\\Vidyasagar\\AppData\\Roaming\\nltk_data...\n",
      "[nltk_data]   Package punkt is already up-to-date!\n",
      "[nltk_data] Downloading package wordnet to\n",
      "[nltk_data]     C:\\Users\\Vidyasagar\\AppData\\Roaming\\nltk_data...\n",
      "[nltk_data]   Package wordnet is already up-to-date!\n",
      "[nltk_data] Downloading package averaged_perceptron_tagger to\n",
      "[nltk_data]     C:\\Users\\Vidyasagar\\AppData\\Roaming\\nltk_data...\n",
      "[nltk_data]   Package averaged_perceptron_tagger is already up-to-\n",
      "[nltk_data]       date!\n",
      "[nltk_data] Downloading package stopwords to\n",
      "[nltk_data]     C:\\Users\\Vidyasagar\\AppData\\Roaming\\nltk_data...\n",
      "[nltk_data]   Package stopwords is already up-to-date!\n"
     ]
    },
    {
     "data": {
      "text/plain": [
       "True"
      ]
     },
     "execution_count": 8,
     "metadata": {},
     "output_type": "execute_result"
    }
   ],
   "source": [
    "nltk.download('omw-1.4')\n",
    "nltk.download('punkt')\n",
    "nltk.download('wordnet')\n",
    "nltk.download('averaged_perceptron_tagger')\n",
    "nltk.download('stopwords')"
   ]
  },
  {
   "cell_type": "code",
   "execution_count": 9,
   "id": "7576749a",
   "metadata": {},
   "outputs": [],
   "source": [
    "lemmatizer = WordNetLemmatizer()\n",
    "stop_words = set(stopwords.words(\"english\"))"
   ]
  },
  {
   "cell_type": "code",
   "execution_count": 10,
   "id": "fa0517d2",
   "metadata": {},
   "outputs": [],
   "source": [
    "tag_map = defaultdict(lambda: wordnet.NOUN)\n",
    "tag_map['J'] = wordnet.ADJ\n",
    "tag_map['V'] = wordnet.VERB\n",
    "tag_map['R'] = wordnet.ADV"
   ]
  },
  {
   "cell_type": "code",
   "execution_count": 11,
   "id": "679924ce",
   "metadata": {},
   "outputs": [],
   "source": [
    "def preprocess(text):\n",
    "    words = word_tokenize(text.lower())\n",
    "    final_words = []\n",
    "    for word, tag in pos_tag(words):\n",
    "        if word.isalpha() and word not in stop_words:\n",
    "            final_words.append(lemmatizer.lemmatize(word, tag_map[tag[0]]))\n",
    "    return \" \".join(final_words)"
   ]
  },
  {
   "cell_type": "code",
   "execution_count": 12,
   "id": "2f1250ad",
   "metadata": {},
   "outputs": [],
   "source": [
    "train_df['text_final'] = train_df['lyrics'].apply(preprocess)\n",
    "test_df['text_final'] = test_df['lyrics'].apply(preprocess)"
   ]
  },
  {
   "cell_type": "markdown",
   "id": "2105e939",
   "metadata": {},
   "source": [
    "To convert the mood labels into a machine-readable format, I use `LabelEncoder` from `sklearn`. This maps each string label (e.g., \"happy\", \"sad\") to a unique integer. For example, `{'angry': 0, 'happy': 1, 'relaxed': 2, 'sad': 3}`. This encoded format is necessary for training classification models."
   ]
  },
  {
   "cell_type": "code",
   "execution_count": 14,
   "id": "218f2cf1",
   "metadata": {},
   "outputs": [],
   "source": [
    "from sklearn.preprocessing import LabelEncoder\n",
    "\n",
    "le = LabelEncoder()\n",
    "y_train = le.fit_transform(train_df['mood'])\n",
    "y_test = le.transform(test_df['mood'])"
   ]
  },
  {
   "cell_type": "markdown",
   "id": "82e9e3ca",
   "metadata": {},
   "source": [
    "## Feature Extraction: TF-IDF Vectorizer\n",
    "\n",
    "I first use the `TfidfVectorizer` from `sklearn` to convert the preprocessed lyrics into numerical features. TF-IDF (Term Frequency–Inverse Document Frequency) measures how important a word is to a document relative to the entire corpus. Common words across songs are downweighted, while rare but informative words are given higher weight.\n",
    "\n",
    "In our setup, each song lyric is transformed into a sparse vector of TF-IDF scores, with a maximum vocabulary size of 5000. This representation captures the relevance of words while avoiding raw frequency bias. These vectors are then passed to classical machine learning models for mood classification."
   ]
  },
  {
   "cell_type": "code",
   "execution_count": 13,
   "id": "92359aa5",
   "metadata": {},
   "outputs": [],
   "source": [
    "from sklearn.feature_extraction.text import TfidfVectorizer\n",
    "\n",
    "vectorizer = TfidfVectorizer(max_features=5000)\n",
    "X_train = vectorizer.fit_transform(train_df['text_final'])\n",
    "X_test = vectorizer.transform(test_df['text_final'])"
   ]
  },
  {
   "cell_type": "markdown",
   "id": "ab866005",
   "metadata": {},
   "source": [
    "## Models Trained\n",
    "\n",
    "We trained four classical machine learning classifiers using the extracted features:\n",
    "\n",
    "- **Logistic Regression**: A strong baseline for text classification.\n",
    "- **Random Forest**: An ensemble model that handles non-linear patterns and is robust to overfitting.\n",
    "- **Support Vector Machine (SVM)**: Effective in high-dimensional spaces like TF-IDF and embeddings.\n",
    "- **Naive Bayes**: Applied only with TF-IDF, since it assumes feature independence.\n",
    "\n",
    "Each model was trained separately on features from TF-IDF, GloVe, and BERT (except Naive Bayes).\n",
    "\n",
    "## Evaluation\n",
    "\n",
    "Model performance was evaluated using:\n",
    "\n",
    "- **Accuracy**: Overall correctness of predictions.\n",
    "- **F1-Score**: Balances precision and recall across mood classes.\n",
    "- **Confusion Matrix**: Visualizes per-class performance and misclassification patterns."
   ]
  },
  {
   "cell_type": "code",
   "execution_count": 15,
   "id": "73f8e942",
   "metadata": {},
   "outputs": [],
   "source": [
    "from sklearn.linear_model import LogisticRegression\n",
    "from sklearn.naive_bayes import MultinomialNB\n",
    "from sklearn.ensemble import RandomForestClassifier\n",
    "from sklearn.svm import LinearSVC\n",
    "from sklearn.metrics import classification_report, accuracy_score, confusion_matrix, ConfusionMatrixDisplay "
   ]
  },
  {
   "cell_type": "code",
   "execution_count": 16,
   "id": "d1800676",
   "metadata": {},
   "outputs": [],
   "source": [
    "# Define models\n",
    "models = {\n",
    "    \"Logistic Regression\": LogisticRegression(max_iter=1000),\n",
    "    \"Naive Bayes\": MultinomialNB(),\n",
    "    \"Random Forest\": RandomForestClassifier(n_estimators=100),\n",
    "    \"SVM\": LinearSVC()\n",
    "}"
   ]
  },
  {
   "cell_type": "code",
   "execution_count": 17,
   "id": "f53f201f",
   "metadata": {},
   "outputs": [],
   "source": [
    "def plot_confusion_matrix(y_true, y_pred, label_encoder, title=\"Confusion Matrix\"):\n",
    "    cm = confusion_matrix(y_true, y_pred)\n",
    "    disp = ConfusionMatrixDisplay(confusion_matrix=cm, display_labels=label_encoder.classes_)\n",
    "    fig, ax = plt.subplots(figsize=(6, 6))\n",
    "    disp.plot(cmap=\"Blues\", ax=ax, colorbar=False)\n",
    "    plt.title(title)\n",
    "    plt.xticks(rotation=45)\n",
    "    plt.show()"
   ]
  },
  {
   "cell_type": "code",
   "execution_count": 18,
   "id": "6c154a42",
   "metadata": {},
   "outputs": [],
   "source": [
    "def benchmark_models(X_train, y_train, X_test, y_test, label_encoder, models):\n",
    "    results = {}\n",
    "    for name, model in models.items():\n",
    "        print(f\"\\n=== {name} ===\")\n",
    "        model.fit(X_train, y_train)\n",
    "        y_pred = model.predict(X_test)\n",
    "        acc = accuracy_score(y_test, y_pred)\n",
    "        print(f\"Accuracy: {acc:.4f}\")\n",
    "        print(classification_report(y_test, y_pred, target_names=label_encoder.classes_))\n",
    "        results[name] = acc\n",
    "        plot_confusion_matrix(y_test, y_pred, le, title=\"Confusion Matrix - TF-IDF Vectorizer\")\n",
    "    return results"
   ]
  },
  {
   "cell_type": "code",
   "execution_count": 19,
   "id": "f2821471",
   "metadata": {},
   "outputs": [
    {
     "name": "stdout",
     "output_type": "stream",
     "text": [
      "\n",
      "=== Logistic Regression ===\n",
      "Accuracy: 0.4244\n",
      "              precision    recall  f1-score   support\n",
      "\n",
      "       Angry       0.52      0.63      0.57        71\n",
      "       Happy       0.46      0.59      0.52       106\n",
      "     Relaxed       0.30      0.24      0.27       101\n",
      "         Sad       0.38      0.28      0.32        99\n",
      "\n",
      "    accuracy                           0.42       377\n",
      "   macro avg       0.41      0.44      0.42       377\n",
      "weighted avg       0.41      0.42      0.41       377\n",
      "\n"
     ]
    },
    {
     "data": {
      "image/png": "[encoded data removed]",
      "text/plain": [
       "<Figure size 432x432 with 1 Axes>"
      ]
     },
     "metadata": {
      "needs_background": "light"
     },
     "output_type": "display_data"
    },
    {
     "name": "stdout",
     "output_type": "stream",
     "text": [
      "\n",
      "=== Naive Bayes ===\n",
      "Accuracy: 0.4164\n",
      "              precision    recall  f1-score   support\n",
      "\n",
      "       Angry       0.77      0.52      0.62        71\n",
      "       Happy       0.48      0.42      0.44       106\n",
      "     Relaxed       0.29      0.26      0.27       101\n",
      "         Sad       0.34      0.51      0.41        99\n",
      "\n",
      "    accuracy                           0.42       377\n",
      "   macro avg       0.47      0.42      0.44       377\n",
      "weighted avg       0.45      0.42      0.42       377\n",
      "\n"
     ]
    },
    {
     "data": {
      "image/png": "[encoded data removed]",
      "text/plain": [
       "<Figure size 432x432 with 1 Axes>"
      ]
     },
     "metadata": {
      "needs_background": "light"
     },
     "output_type": "display_data"
    },
    {
     "name": "stdout",
     "output_type": "stream",
     "text": [
      "\n",
      "=== Random Forest ===\n",
      "Accuracy: 0.4456\n",
      "              precision    recall  f1-score   support\n",
      "\n",
      "       Angry       0.60      0.72      0.65        71\n",
      "       Happy       0.45      0.53      0.49       106\n",
      "     Relaxed       0.37      0.30      0.33       101\n",
      "         Sad       0.36      0.31      0.34        99\n",
      "\n",
      "    accuracy                           0.45       377\n",
      "   macro avg       0.44      0.46      0.45       377\n",
      "weighted avg       0.43      0.45      0.44       377\n",
      "\n"
     ]
    },
    {
     "data": {
      "image/png": "[encoded data removed]",
      "text/plain": [
       "<Figure size 432x432 with 1 Axes>"
      ]
     },
     "metadata": {
      "needs_background": "light"
     },
     "output_type": "display_data"
    },
    {
     "name": "stdout",
     "output_type": "stream",
     "text": [
      "\n",
      "=== SVM ===\n",
      "Accuracy: 0.4138\n",
      "              precision    recall  f1-score   support\n",
      "\n",
      "       Angry       0.58      0.65      0.61        71\n",
      "       Happy       0.44      0.54      0.49       106\n",
      "     Relaxed       0.25      0.20      0.22       101\n",
      "         Sad       0.37      0.33      0.35        99\n",
      "\n",
      "    accuracy                           0.41       377\n",
      "   macro avg       0.41      0.43      0.42       377\n",
      "weighted avg       0.40      0.41      0.40       377\n",
      "\n"
     ]
    },
    {
     "data": {
      "image/png": "[encoded data removed]",
      "text/plain": [
       "<Figure size 432x432 with 1 Axes>"
      ]
     },
     "metadata": {
      "needs_background": "light"
     },
     "output_type": "display_data"
    }
   ],
   "source": [
    "results = benchmark_models(X_train, y_train, X_test, y_test, le, models)"
   ]
  },
  {
   "cell_type": "markdown",
   "id": "a619e398",
   "metadata": {},
   "source": [
    "## Feature Extraction: GloVe Word Embeddings\n",
    "\n",
    "I use pretrained **GloVe word embeddings** (100-dimensional, `glove.6B.100d.txt`) to capture semantic meaning from lyrics. Each word is mapped to a dense vector based on its co-occurrence statistics in a large corpus.\n",
    "\n",
    "To obtain a fixed-size representation for each song, I average the GloVe vectors of all valid words in the preprocessed lyrics. This yields a single 100D vector per sample. Unlike TF-IDF, GloVe captures semantic similarity between words, making it more robust to vocabulary variation."
   ]
  },
  {
   "cell_type": "code",
   "execution_count": 20,
   "id": "7f669bd6",
   "metadata": {},
   "outputs": [],
   "source": [
    "import gensim.downloader as api\n",
    "import numpy as np"
   ]
  },
  {
   "cell_type": "code",
   "execution_count": 21,
   "id": "a60dd101",
   "metadata": {},
   "outputs": [],
   "source": [
    "# Load pretrained embeddings\n",
    "glove = api.load(\"glove-wiki-gigaword-100\")  # 100-dimensional GloVe vectors\n",
    "\n",
    "def average_embedding(text):\n",
    "    words = text.split()\n",
    "    vectors = [glove[word] for word in words if word in glove]\n",
    "    if vectors:\n",
    "        return np.mean(vectors, axis=0)\n",
    "    else:\n",
    "        return np.zeros(100)\n",
    "\n",
    "X_train_embed = np.vstack(train_df[\"text_final\"].apply(average_embedding))\n",
    "X_test_embed = np.vstack(test_df[\"text_final\"].apply(average_embedding))"
   ]
  },
  {
   "cell_type": "code",
   "execution_count": 22,
   "id": "a331002f",
   "metadata": {},
   "outputs": [],
   "source": [
    "models = {\n",
    "    \"Logistic Regression\": LogisticRegression(max_iter=1000),\n",
    "    \"Random Forest\": RandomForestClassifier(n_estimators=100),\n",
    "    \"SVM\": LinearSVC(),\n",
    "    # Note: Naive Bayes doesn't work well with negative/real-valued features\n",
    "}"
   ]
  },
  {
   "cell_type": "code",
   "execution_count": 23,
   "id": "974f1d0c",
   "metadata": {},
   "outputs": [],
   "source": [
    "def benchmark_models(X_train, y_train, X_test, y_test, label_encoder, models):\n",
    "    results = {}\n",
    "    for name, model in models.items():\n",
    "        print(f\"\\n=== {name} ===\")\n",
    "        model.fit(X_train, y_train)\n",
    "        y_pred = model.predict(X_test)\n",
    "        acc = accuracy_score(y_test, y_pred)\n",
    "        print(f\"Accuracy: {acc:.4f}\")\n",
    "        print(classification_report(y_test, y_pred, target_names=label_encoder.classes_))\n",
    "        results[name] = acc\n",
    "        plot_confusion_matrix(y_test, y_pred, le, title=\"Confusion Matrix - GloVe word embeddings\")\n",
    "    return results"
   ]
  },
  {
   "cell_type": "code",
   "execution_count": 24,
   "id": "a4d1b2ab",
   "metadata": {},
   "outputs": [
    {
     "name": "stdout",
     "output_type": "stream",
     "text": [
      "\n",
      "=== Logistic Regression ===\n",
      "Accuracy: 0.4244\n",
      "              precision    recall  f1-score   support\n",
      "\n",
      "       Angry       0.52      0.63      0.57        71\n",
      "       Happy       0.46      0.59      0.52       106\n",
      "     Relaxed       0.30      0.24      0.27       101\n",
      "         Sad       0.38      0.28      0.32        99\n",
      "\n",
      "    accuracy                           0.42       377\n",
      "   macro avg       0.41      0.44      0.42       377\n",
      "weighted avg       0.41      0.42      0.41       377\n",
      "\n"
     ]
    },
    {
     "data": {
      "image/png": "[encoded data removed]",
      "text/plain": [
       "<Figure size 432x432 with 1 Axes>"
      ]
     },
     "metadata": {
      "needs_background": "light"
     },
     "output_type": "display_data"
    },
    {
     "name": "stdout",
     "output_type": "stream",
     "text": [
      "\n",
      "=== Random Forest ===\n",
      "Accuracy: 0.4191\n",
      "              precision    recall  f1-score   support\n",
      "\n",
      "       Angry       0.60      0.62      0.61        71\n",
      "       Happy       0.40      0.54      0.46       106\n",
      "     Relaxed       0.33      0.28      0.30       101\n",
      "         Sad       0.37      0.29      0.33        99\n",
      "\n",
      "    accuracy                           0.42       377\n",
      "   macro avg       0.43      0.43      0.43       377\n",
      "weighted avg       0.41      0.42      0.41       377\n",
      "\n"
     ]
    },
    {
     "data": {
      "image/png": "[encoded data removed]",
      "text/plain": [
       "<Figure size 432x432 with 1 Axes>"
      ]
     },
     "metadata": {
      "needs_background": "light"
     },
     "output_type": "display_data"
    },
    {
     "name": "stdout",
     "output_type": "stream",
     "text": [
      "\n",
      "=== SVM ===\n",
      "Accuracy: 0.4138\n",
      "              precision    recall  f1-score   support\n",
      "\n",
      "       Angry       0.58      0.65      0.61        71\n",
      "       Happy       0.44      0.54      0.49       106\n",
      "     Relaxed       0.25      0.20      0.22       101\n",
      "         Sad       0.37      0.33      0.35        99\n",
      "\n",
      "    accuracy                           0.41       377\n",
      "   macro avg       0.41      0.43      0.42       377\n",
      "weighted avg       0.40      0.41      0.40       377\n",
      "\n"
     ]
    },
    {
     "data": {
      "image/png": "[encoded data removed]",
      "text/plain": [
       "<Figure size 432x432 with 1 Axes>"
      ]
     },
     "metadata": {
      "needs_background": "light"
     },
     "output_type": "display_data"
    }
   ],
   "source": [
    "results = benchmark_models(X_train, y_train, X_test, y_test, le, models)"
   ]
  },
  {
   "cell_type": "markdown",
   "id": "bbddeabf",
   "metadata": {},
   "source": [
    "## Feature Extraction: BERT (MiniLM Embeddings)\n",
    "\n",
    "I also experiment with contextual embeddings using **MiniLM**, a lightweight variant of BERT from the `sentence-transformers` library. Each song lyric is treated as a single input sentence, and the model outputs a dense 384-dimensional sentence embedding.\n",
    "\n",
    "MiniLM captures not only word meanings but also their contextual relationships. This allows it to encode subtle emotional cues present in sentence structure or phrasing. These embeddings are fed directly into downstream classifiers."
   ]
  },
  {
   "cell_type": "code",
   "execution_count": 25,
   "id": "4c926a9f",
   "metadata": {},
   "outputs": [],
   "source": [
    "#!pip install sentence_transformers\n",
    "from sentence_transformers import SentenceTransformer"
   ]
  },
  {
   "cell_type": "code",
   "execution_count": 26,
   "id": "f83fcb7f",
   "metadata": {},
   "outputs": [
    {
     "name": "stdout",
     "output_type": "stream",
     "text": [
      "Loading BERT model and generating embeddings...\n"
     ]
    },
    {
     "data": {
      "application/vnd.jupyter.widget-view+json": {
       "model_id": "b8e12981ab9d452d800276f6c1a56e9f",
       "version_major": 2,
       "version_minor": 0
      },
      "text/plain": [
       "Batches:   0%|          | 0/13 [00:00<?, ?it/s]"
      ]
     },
     "metadata": {},
     "output_type": "display_data"
    },
    {
     "data": {
      "application/vnd.jupyter.widget-view+json": {
       "model_id": "75f603c5f54f44d5b2e5105f1cf441ed",
       "version_major": 2,
       "version_minor": 0
      },
      "text/plain": [
       "Batches:   0%|          | 0/12 [00:00<?, ?it/s]"
      ]
     },
     "metadata": {},
     "output_type": "display_data"
    }
   ],
   "source": [
    "# Load BERT model and encode lyrics\n",
    "print(\"Loading BERT model and generating embeddings...\")\n",
    "bert = SentenceTransformer('all-MiniLM-L6-v2')  # Fast, ~384-dim\n",
    "\n",
    "X_train_bert = bert.encode(train_df['lyrics'].tolist(), show_progress_bar=True)\n",
    "X_test_bert = bert.encode(test_df['lyrics'].tolist(), show_progress_bar=True)"
   ]
  },
  {
   "cell_type": "code",
   "execution_count": 27,
   "id": "1c92bf8d",
   "metadata": {},
   "outputs": [],
   "source": [
    "# Define classifiers\n",
    "models = {\n",
    "    \"Logistic Regression\": LogisticRegression(max_iter=1000),\n",
    "    \"Random Forest\": RandomForestClassifier(n_estimators=100),\n",
    "    \"SVM\": LinearSVC()\n",
    "}"
   ]
  },
  {
   "cell_type": "code",
   "execution_count": 28,
   "id": "f8af4dd6",
   "metadata": {},
   "outputs": [],
   "source": [
    "def benchmark_models(X_train, y_train, X_test, y_test, label_encoder, models):\n",
    "    results = {}\n",
    "    for name, model in models.items():\n",
    "        print(f\"\\n=== {name} ===\")\n",
    "        model.fit(X_train, y_train)\n",
    "        y_pred = model.predict(X_test)\n",
    "        acc = accuracy_score(y_test, y_pred)\n",
    "        print(f\"Accuracy: {acc:.4f}\")\n",
    "        print(classification_report(y_test, y_pred, target_names=label_encoder.classes_))\n",
    "        results[name] = acc\n",
    "        plot_confusion_matrix(y_test, y_pred, le, title=\"Confusion Matrix - BERT Transformer\")\n",
    "    return results"
   ]
  },
  {
   "cell_type": "code",
   "execution_count": 29,
   "id": "eeebf566",
   "metadata": {},
   "outputs": [
    {
     "name": "stdout",
     "output_type": "stream",
     "text": [
      "\n",
      "=== Logistic Regression ===\n",
      "Accuracy: 0.4244\n",
      "              precision    recall  f1-score   support\n",
      "\n",
      "       Angry       0.52      0.63      0.57        71\n",
      "       Happy       0.46      0.59      0.52       106\n",
      "     Relaxed       0.30      0.24      0.27       101\n",
      "         Sad       0.38      0.28      0.32        99\n",
      "\n",
      "    accuracy                           0.42       377\n",
      "   macro avg       0.41      0.44      0.42       377\n",
      "weighted avg       0.41      0.42      0.41       377\n",
      "\n"
     ]
    },
    {
     "data": {
      "image/png": "[encoded data removed]",
      "text/plain": [
       "<Figure size 432x432 with 1 Axes>"
      ]
     },
     "metadata": {
      "needs_background": "light"
     },
     "output_type": "display_data"
    },
    {
     "name": "stdout",
     "output_type": "stream",
     "text": [
      "\n",
      "=== Random Forest ===\n",
      "Accuracy: 0.4191\n",
      "              precision    recall  f1-score   support\n",
      "\n",
      "       Angry       0.64      0.62      0.63        71\n",
      "       Happy       0.39      0.52      0.45       106\n",
      "     Relaxed       0.35      0.29      0.32       101\n",
      "         Sad       0.35      0.30      0.33        99\n",
      "\n",
      "    accuracy                           0.42       377\n",
      "   macro avg       0.43      0.43      0.43       377\n",
      "weighted avg       0.42      0.42      0.41       377\n",
      "\n"
     ]
    },
    {
     "data": {
      "image/png": "[encoded data removed]",
      "text/plain": [
       "<Figure size 432x432 with 1 Axes>"
      ]
     },
     "metadata": {
      "needs_background": "light"
     },
     "output_type": "display_data"
    },
    {
     "name": "stdout",
     "output_type": "stream",
     "text": [
      "\n",
      "=== SVM ===\n",
      "Accuracy: 0.4138\n",
      "              precision    recall  f1-score   support\n",
      "\n",
      "       Angry       0.58      0.65      0.61        71\n",
      "       Happy       0.44      0.54      0.49       106\n",
      "     Relaxed       0.25      0.20      0.22       101\n",
      "         Sad       0.37      0.33      0.35        99\n",
      "\n",
      "    accuracy                           0.41       377\n",
      "   macro avg       0.41      0.43      0.42       377\n",
      "weighted avg       0.40      0.41      0.40       377\n",
      "\n"
     ]
    },
    {
     "data": {
      "image/png": "[encoded data removed]",
      "text/plain": [
       "<Figure size 432x432 with 1 Axes>"
      ]
     },
     "metadata": {
      "needs_background": "light"
     },
     "output_type": "display_data"
    }
   ],
   "source": [
    "results = benchmark_models(X_train, y_train, X_test, y_test, le, models)"
   ]
  },
  {
   "cell_type": "markdown",
   "id": "6fe1aeaa",
   "metadata": {},
   "source": [
    "## Observations and Limitations\n",
    "\n",
    "Despite experimenting with multiple features and models, classification accuracy plateaued around **40%**, with minimal variation across TF-IDF, GloVe, and BERT embeddings. This indicates that lyrics alone do not carry enough discriminative signal to capture musical mood reliably.\n",
    "\n",
    "One key limitation is the **size and nature of the dataset**—with only **777 samples** across four mood classes, the model lacks sufficient training data to learn complex patterns. Additionally, mood is often conveyed not just through words, but through **vocal tone, tempo, instrumentation, and rhythm**—none of which are captured by text alone.\n",
    "\n",
    "These observations strongly support the need for **multimodal learning**, where lyrics are combined with **audio features** such as MFCCs, chroma, tempo, and energy-based metrics. Future work will explore such fusion-based architectures to improve mood classification performance.\n",
    "\n",
    "---\n",
    "\n",
    "## References\n",
    "\n",
    "- Laurier, C., Lartillot, O., Eerola, T., & Herrera, P. (2008). *Multimodal mood classification using audio and lyrics*. In Proceedings of the International Society for Music Information Retrieval (ISMIR).\n",
    "\n",
    "- Delbouys, R., Royo-Letelier, J., Hennequin, R., & Pachet, F. (2018). *Music mood detection based on audio and lyrics with deep neural net*. arXiv preprint arXiv:1809.07276.\n",
    "\n",
    "- Pennington, J., Socher, R., & Manning, C. D. (2014). *GloVe: Global Vectors for Word Representation*. In EMNLP.\n",
    "\n",
    "- Reimers, N., & Gurevych, I. (2019). *Sentence-BERT: Sentence Embeddings using Siamese BERT-Networks*. In EMNLP. [https://www.sbert.net](https://www.sbert.net)\n",
    "\n",
    "- NJU Music Mood Dataset: [https://cs.nju.edu.cn/sufeng/data/musicmood.htm](https://cs.nju.edu.cn/sufeng/data/musicmood.htm)\n",
    "\n",
    "- scikit-learn Documentation: [https://scikit-learn.org/stable/](https://scikit-learn.org/stable/)\n",
    "\n",
    "- NLTK Documentation: [https://www.nltk.org/](https://www.nltk.org/)\n"
   ]
  },
  {
   "cell_type": "code",
   "execution_count": null,
   "id": "d5b0ae24",
   "metadata": {},
   "outputs": [],
   "source": []
  }
 ],
 "metadata": {
  "kernelspec": {
   "display_name": "Python 3 (ipykernel)",
   "language": "python",
   "name": "python3"
  },
  "language_info": {
   "codemirror_mode": {
    "name": "ipython",
    "version": 3
   },
   "file_extension": ".py",
   "mimetype": "text/x-python",
   "name": "python",
   "nbconvert_exporter": "python",
   "pygments_lexer": "ipython3",
   "version": "3.9.12"
  }
 },
 "nbformat": 4,
 "nbformat_minor": 5
}
